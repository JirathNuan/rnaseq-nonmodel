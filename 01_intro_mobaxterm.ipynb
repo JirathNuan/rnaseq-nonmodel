{
  "cells": [
    {
      "cell_type": "markdown",
      "metadata": {},
      "source": [
        "# Introduction to MobaXterm, Terminal, and SSH\n",
        "\n",
        "## MobaXterm (for Windows)\n",
        "\n",
        "MobaXterm is a toolbox for remote computing. In a single Windows application, it provides loads of functions that are tailored for programmers, webmasters, IT administrators and pretty much all users who need to handle their remote jobs in a more simple fashion. MobaXterm provides all the important remote network tools, such as SSH, X11, RDP, VNC, FTP, MOSH, and of course, Unix commands, and many more!\n",
        "\n",
        "![MobaXterm user interface. In the context of remote access through SSH and FTP, mobaXterm provides easy-to-access route as (1) a secure shell (SSH) terminal of the remote server, (2) a list of remote server you've accessed, (3) Utilities facilitating remote server access including entertainment, like Swiss army knife!, (4) If you want to reduce redundant typing, just set macro to it, and (5) a files available in the current working directory in the remote server, you can also transfer files from remote server to your local computer using this route!](assets/01_moba_ui.png){fig-align=\"center\"}\n",
        "\n",
        "There are many advantages of having an All-In-One network application for your remote tasks, e.g. when you use SSH to connect to a remote server, a graphical SFTP browser will automatically pop up in order to directly edit your remote files.\n",
        "\n",
        "Visit MobaXterm official website to see a demo: https://mobaxterm.mobatek.net/demo.html\n",
        "\n",
        "## Terminal (for macOS)\n",
        "\n",
        "Terminal provides a command-line interface to macOS. Each window in Terminal represents an instance of a shell process. The window contains a prompt that indicates you can enter a command. The prompt you see depends on your Terminal and shell settings, but it often includes the name of the host you're logged in to, your current working folder, your user name, and a prompt symbol. For example, if a user named michael is using the default zsh shell, the prompt appears as:\n",
        "\n",
        "```\n",
        "{michael@MacBook-Pro ~ %}\n",
        "```\n",
        "\n",
        "This indicates that the user named michael is logged in to a computer named MacBook-Pro, and the current folder is his home folder, indicated by the tilde (\\~).\n",
        "\n",
        "MacOS features a built-in SSH client called Terminal which allows you to quickly and easily connect to a server. Starting from open the \"terminal\" app, and enter the standard SSH command:\n",
        "\n",
        "```\n",
        "{ssh user@IPAddress}\n",
        "```\n",
        "\n",
        "This will connect to the server via SSH with the username \\`user\\` and the default SSH port 22. The connection will look similar to the following:\n",
        "\n",
        "![A prompt screen after successfully connecting to the remote server](_book/assets/03_welcome-page.png)\n",
        "\n",
        "## Accessing Remote Server\n",
        "\n",
        "What you need to know for connecting to a remove server:\n",
        "\n",
        "1.  Your username and password in the remote server\n",
        "\n",
        "2.  IP address of the remote server, and which port to connect to server\n",
        "\n",
        "3.  You should know whether the remote server accessible via local network or a public IP address\n",
        "\n",
        "By default, SSH uses port 22 but it can be changed to a non-standard port. To securely connect the client to the remote server, SSH uses symmetric encryption, asymmetric encryption, and hashing. If you're connecting for the first time, you'll be asked to verify the server's public key. Whenever you connect to the same server in the future, the client will reference this verified public key. During an SSH connection, the client and server negotiate a session key used to encrypt and decrypt data.\n",
        "\n",
        "![In order to establish a connection, SSH needs to verify SHA keys once connected for the first time. Once authentication is complete, the SSH connection is secure and can be trusted for future access.](_book/assets/02_auth_key.png){fig-align=\"center\"}"
      ],
      "id": "c3097105"
    }
  ],
  "metadata": {
    "kernelspec": {
      "display_name": "Python 3",
      "language": "python",
      "name": "python3"
    }
  },
  "nbformat": 4,
  "nbformat_minor": 5
}